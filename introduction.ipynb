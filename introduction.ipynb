{
  "nbformat": 4,
  "nbformat_minor": 0,
  "metadata": {
    "colab": {
      "name": "introduction.ipynb",
      "provenance": [],
      "authorship_tag": "ABX9TyMHNXtGJH/uDWLezZF+2o+g",
      "include_colab_link": true
    },
    "kernelspec": {
      "name": "python3",
      "display_name": "Python 3"
    }
  },
  "cells": [
    {
      "cell_type": "markdown",
      "metadata": {
        "id": "view-in-github",
        "colab_type": "text"
      },
      "source": [
        "<a href=\"https://colab.research.google.com/github/jogehl/kas-goes-blockchain/blob/master/introduction.ipynb\" target=\"_parent\"><img src=\"https://colab.research.google.com/assets/colab-badge.svg\" alt=\"Open In Colab\"/></a>"
      ]
    },
    {
      "cell_type": "markdown",
      "metadata": {
        "id": "jCUe47m4PPdo",
        "colab_type": "text"
      },
      "source": [
        "# Hello World\n"
      ]
    },
    {
      "cell_type": "code",
      "metadata": {
        "id": "fCH-LPkoO3PH",
        "colab_type": "code",
        "colab": {
          "base_uri": "https://localhost:8080/",
          "height": 34
        },
        "outputId": "e3074c56-3e85-4942-b2ca-a2db01edf5de"
      },
      "source": [
        "print(\"Hello World\")"
      ],
      "execution_count": 1,
      "outputs": [
        {
          "output_type": "stream",
          "text": [
            "Hello World\n"
          ],
          "name": "stdout"
        }
      ]
    },
    {
      "cell_type": "markdown",
      "metadata": {
        "id": "3Ckys3xgP2oK",
        "colab_type": "text"
      },
      "source": [
        "# Variablen"
      ]
    },
    {
      "cell_type": "code",
      "metadata": {
        "id": "m_41bmdGSJQO",
        "colab_type": "code",
        "colab": {
          "base_uri": "https://localhost:8080/",
          "height": 34
        },
        "outputId": "a88f5b7f-f2a6-4c9d-e84f-23578e3d7838"
      },
      "source": [
        "zahl1 = 5.0\n",
        "zahl2 = 10\n",
        "\n",
        "ergebnis = zahl1 + zahl2\n",
        "# auch mit negativen Zahlen möglich\n",
        "print(ergebnis)"
      ],
      "execution_count": 6,
      "outputs": [
        {
          "output_type": "stream",
          "text": [
            "15.0\n"
          ],
          "name": "stdout"
        }
      ]
    },
    {
      "cell_type": "markdown",
      "metadata": {
        "id": "9r3A9eeJTR3D",
        "colab_type": "text"
      },
      "source": [
        "Aufgabe:\n",
        "\n",
        "a) Addiere 30 und 2 und lasse dir das Ergbnis ausgeben\n",
        "\n",
        "b) Subtrahiere zwei Zahlen deiner Wahl"
      ]
    },
    {
      "cell_type": "code",
      "metadata": {
        "id": "vfLESkkYSTIq",
        "colab_type": "code",
        "colab": {
          "base_uri": "https://localhost:8080/",
          "height": 34
        },
        "outputId": "6b1dbf25-5cfe-424a-b2d8-9c97956f85b4"
      },
      "source": [
        "wort1 = \"Hallo \"\n",
        "wort2 = \"Welt!\"\n",
        "\n",
        "satz = wort1 + wort2\n",
        "\n",
        "print(satz)"
      ],
      "execution_count": 7,
      "outputs": [
        {
          "output_type": "stream",
          "text": [
            "Hallo Welt!\n"
          ],
          "name": "stdout"
        }
      ]
    },
    {
      "cell_type": "markdown",
      "metadata": {
        "id": "sqnXwTtbTz9h",
        "colab_type": "text"
      },
      "source": [
        "Aufgabe: Gebe deinen Vor- und Nachnamen aus. "
      ]
    },
    {
      "cell_type": "code",
      "metadata": {
        "id": "uqlzn_jcS5Vy",
        "colab_type": "code",
        "colab": {}
      },
      "source": [
        "satz1 = \"Ich bin eine \"\n",
        "zahl1 = 5\n",
        "\n",
        "# Typkonvertierung\n",
        "satz = satz1 + str(zahl1)\n",
        "\n",
        "print(satz)"
      ],
      "execution_count": 8,
      "outputs": []
    },
    {
      "cell_type": "markdown",
      "metadata": {
        "id": "w7_WUzbHTwJw",
        "colab_type": "text"
      },
      "source": [
        "Aufgabe:\n",
        "\n",
        "Gebe aus: Ich bin x Jahre alt."
      ]
    }
  ]
}