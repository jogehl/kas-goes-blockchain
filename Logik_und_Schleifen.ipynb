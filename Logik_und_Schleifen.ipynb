{
  "nbformat": 4,
  "nbformat_minor": 0,
  "metadata": {
    "colab": {
      "name": "Logik und Schleifen.ipynb",
      "provenance": [],
      "authorship_tag": "ABX9TyOhnVOKg1AB0FSxm4po3IPp",
      "include_colab_link": true
    },
    "kernelspec": {
      "name": "python3",
      "display_name": "Python 3"
    }
  },
  "cells": [
    {
      "cell_type": "markdown",
      "metadata": {
        "id": "view-in-github",
        "colab_type": "text"
      },
      "source": [
        "<a href=\"https://colab.research.google.com/github/jogehl/kas-goes-blockchain/blob/master/Logik_und_Schleifen.ipynb\" target=\"_parent\"><img src=\"https://colab.research.google.com/assets/colab-badge.svg\" alt=\"Open In Colab\"/></a>"
      ]
    },
    {
      "cell_type": "markdown",
      "metadata": {
        "id": "UCN0DTvgiE8s",
        "colab_type": "text"
      },
      "source": [
        "# Logik"
      ]
    },
    {
      "cell_type": "code",
      "metadata": {
        "id": "QkCaW_Pmalm-",
        "colab_type": "code",
        "colab": {
          "base_uri": "https://localhost:8080/",
          "height": 73
        },
        "outputId": "ab5f5f4f-77ac-4bc9-c76e-57ff878ad55a"
      },
      "source": [
        "# falls Alter >= 16, dann darfst du Bier trinken\n",
        "# falls Alter >= 18, dann darfst du Spirituosen trinken\n",
        "print(\"Wie alt bist du?\")\n",
        "eingabe = input()\n",
        "\n",
        "if int(eingabe) >= 16:\n",
        "  print(\"Du darfst Bier trinken\")\n",
        "if int(eingabe) >= 18:\n",
        "  print(\"Du darfst Spirituosen trinken\")\n",
        "if int(eingabe) < 16:\n",
        "  print(\"Leider nur Limo\")"
      ],
      "execution_count": 5,
      "outputs": [
        {
          "output_type": "stream",
          "text": [
            "Wie alt bist du?\n",
            "13\n",
            "Leider nur Limo\n"
          ],
          "name": "stdout"
        }
      ]
    },
    {
      "cell_type": "code",
      "metadata": {
        "id": "qQfrMUhGbbMY",
        "colab_type": "code",
        "colab": {
          "base_uri": "https://localhost:8080/",
          "height": 73
        },
        "outputId": "3b9dcf0d-166e-4008-d333-11054cc28325"
      },
      "source": [
        "# falls Alter >= 16, dann darfst du Bier trinken\n",
        "# falls Alter >= 18, dann darfst du Spirituosen trinken\n",
        "print(\"Wie alt bist du?\")\n",
        "eingabe = input()\n",
        "\n",
        "if int(eingabe) >= 18:\n",
        "  print(\"Du darfst Spirituosen trinken.\")\n",
        "\n",
        "elif int(eingabe) >= 16: #Else if\n",
        "  print(\"Du darfst Bier trinken.\")\n",
        "\n",
        "else: # Fall Alter < 16\n",
        "  print(\"Leider nur Limo.\")"
      ],
      "execution_count": 8,
      "outputs": [
        {
          "output_type": "stream",
          "text": [
            "Wie alt bist du?\n",
            "18\n",
            "Du darfst Spirituosen trinken\n"
          ],
          "name": "stdout"
        }
      ]
    },
    {
      "cell_type": "code",
      "metadata": {
        "id": "Sq13LkJ-cME3",
        "colab_type": "code",
        "colab": {}
      },
      "source": [
        "# falls Alter < 16, dann darfst du nicht wählen.\n",
        "eingabe = input()\n",
        "\n",
        "if not int(eingabe) >= 16:\n",
        "  print(\"Du darfst nicht wählen.\")"
      ],
      "execution_count": null,
      "outputs": []
    },
    {
      "cell_type": "code",
      "metadata": {
        "id": "M-rhxRZ7cfmr",
        "colab_type": "code",
        "colab": {
          "base_uri": "https://localhost:8080/",
          "height": 73
        },
        "outputId": "a17ac95e-f04c-4555-a599-db0f01f90fb4"
      },
      "source": [
        "# falls du nicht älter als 16 bist und nicht die deutsche Staatsbürgerschaft hast, darfst du du nicht wählen\n",
        "alter = input()\n",
        "staatsangehoerigkeit = bool(input()) # True and False\n",
        "\n",
        "if not int(alter) < 16 and staatsangehoerigkeit:\n",
        "  print(\"Du darfst wählen.\")\n",
        "else: \n",
        "  print(\"Du darfst nicht wählen.\")"
      ],
      "execution_count": 15,
      "outputs": [
        {
          "output_type": "stream",
          "text": [
            "16\n",
            "1\n",
            "Du darfst wählen.\n"
          ],
          "name": "stdout"
        }
      ]
    },
    {
      "cell_type": "code",
      "metadata": {
        "id": "9JxV2TxvduCW",
        "colab_type": "code",
        "colab": {
          "base_uri": "https://localhost:8080/",
          "height": 73
        },
        "outputId": "1a7af535-5f2d-411b-d58e-56a717b0461a"
      },
      "source": [
        "# falls du nicht älter als 18 bist und nicht in Europa lebst, darfst du du nicht wählen\n",
        "alter = input()\n",
        "staatsangehoerigkeit = input() # True and False\n",
        "\n",
        "staaten = [\"Belgien\",\n",
        "           \"Deutschland\",\n",
        "           \"Frankreich\",\n",
        "           \"Italien\",\n",
        "           \"Luxemburg\",\n",
        "           \"Niederlande\",\n",
        "           \"Dänemark\",\n",
        "           \"Irland\",\n",
        "           \"Griechenland\",\n",
        "           \"Portugal\",\n",
        "           \"Spanien\",\n",
        "           \"Finnland\",\n",
        "           \"Österreich\",\n",
        "           \"Schweden\",\n",
        "           \"Estland\",\n",
        "           \"Lettland\",\n",
        "           \"Litauen\",\n",
        "           \"Malta\",\n",
        "           \"Polen\",\n",
        "           \"Slowakei\",\n",
        "           \"Slowenien\",\n",
        "           \"Tschechien\", \n",
        "           \"Ungarn\", \n",
        "           \"Zypern\", \n",
        "           \"Bulgarien\", \n",
        "           \"Rumänien\", \n",
        "           \"Kroatien\"]\n",
        "\n",
        "if not int(alter) < 18 and staatsangehoerigkeit in staaten:\n",
        "  print(\"Du darfst wählen.\")\n",
        "else: \n",
        "  print(\"Du darfst nicht wählen.\")"
      ],
      "execution_count": 18,
      "outputs": [
        {
          "output_type": "stream",
          "text": [
            "17\n",
            "Deutschland\n",
            "Du darfst nicht wählen.\n"
          ],
          "name": "stdout"
        }
      ]
    },
    {
      "cell_type": "markdown",
      "metadata": {
        "id": "wD5_GCnagZ_F",
        "colab_type": "text"
      },
      "source": [
        " Aufgaben\n",
        "\n",
        "\n",
        "1.   Du musst mindenstens 16 sein, um kommunal zu wählen.\n",
        "2.   Du musst mindestens 18 sein, um auf Kommunalebene gewählt zu werden.\n",
        "3.   Unter 40 darfst du nicht Bürgermeister werden.\n",
        "4.   Schreibe ein Wahlprogramm, welches Dein Alter abfragt (Kommunalwahl) und überprüft und schaut, ob die gewählte Partei vorhanden ist (CDU, SPD, Grüne, Linke, FDP, AFD, Piraten, Die Partei). Das Programm soll sagen, od Deine Stimme gültig ist.\n",
        "\n"
      ]
    },
    {
      "cell_type": "code",
      "metadata": {
        "id": "YQtoA01iiDDY",
        "colab_type": "code",
        "colab": {}
      },
      "source": [
        ""
      ],
      "execution_count": null,
      "outputs": []
    },
    {
      "cell_type": "markdown",
      "metadata": {
        "id": "vcFE1ef-iNYB",
        "colab_type": "text"
      },
      "source": [
        "# Schleifen"
      ]
    },
    {
      "cell_type": "code",
      "metadata": {
        "id": "i61QF3U1iMFy",
        "colab_type": "code",
        "colab": {
          "base_uri": "https://localhost:8080/",
          "height": 36
        },
        "outputId": "59794758-e221-4fb8-e2e0-dda710399530"
      },
      "source": [
        "# Addiere die Zahlen von 1 bis 100\n",
        "\n",
        "summe = 0\n",
        "for a in range(1,101): # Was passiert, wenn man die 1 weglässt? Warum bis 101\n",
        "  summe = summe + a\n",
        "print(summe)"
      ],
      "execution_count": 19,
      "outputs": [
        {
          "output_type": "stream",
          "text": [
            "5050\n"
          ],
          "name": "stdout"
        }
      ]
    },
    {
      "cell_type": "code",
      "metadata": {
        "id": "ip7WtniMlMm2",
        "colab_type": "code",
        "colab": {
          "base_uri": "https://localhost:8080/",
          "height": 372
        },
        "outputId": "ee9b615a-10c0-44a3-9a80-652e9ca8fa4b"
      },
      "source": [
        "for a in range(20, 1, -1):\n",
        "  print(a)"
      ],
      "execution_count": 29,
      "outputs": [
        {
          "output_type": "stream",
          "text": [
            "20\n",
            "19\n",
            "18\n",
            "17\n",
            "16\n",
            "15\n",
            "14\n",
            "13\n",
            "12\n",
            "11\n",
            "10\n",
            "9\n",
            "8\n",
            "7\n",
            "6\n",
            "5\n",
            "4\n",
            "3\n",
            "2\n"
          ],
          "name": "stdout"
        }
      ]
    },
    {
      "cell_type": "code",
      "metadata": {
        "id": "98XI6c3WisFn",
        "colab_type": "code",
        "colab": {
          "base_uri": "https://localhost:8080/",
          "height": 36
        },
        "outputId": "971aef18-68f9-4f19-9e3d-810187f69302"
      },
      "source": [
        "# Addiere die Zahlen von 1 bis 100\n",
        "\n",
        "summe = 0\n",
        "a = 1\n",
        "while a <= 100:\n",
        "  summe = summe + a\n",
        "  a = a + 1\n",
        "print(summe)"
      ],
      "execution_count": 21,
      "outputs": [
        {
          "output_type": "stream",
          "text": [
            "5050\n"
          ],
          "name": "stdout"
        }
      ]
    },
    {
      "cell_type": "code",
      "metadata": {
        "id": "sJdtMbALj7rV",
        "colab_type": "code",
        "colab": {
          "base_uri": "https://localhost:8080/",
          "height": 36
        },
        "outputId": "85d7b692-2a7a-464a-8ecc-04aa0c6cd58f"
      },
      "source": [
        "a = 1\n",
        "while True:\n",
        "  if a > 100:\n",
        "    break\n",
        "  a = a + 1\n",
        "print(a)"
      ],
      "execution_count": 26,
      "outputs": [
        {
          "output_type": "stream",
          "text": [
            "101\n"
          ],
          "name": "stdout"
        }
      ]
    },
    {
      "cell_type": "code",
      "metadata": {
        "id": "XTONF0vLi7W8",
        "colab_type": "code",
        "colab": {
          "base_uri": "https://localhost:8080/",
          "height": 204
        },
        "outputId": "ee8e70a3-46dc-4ccb-bb54-2526b8ba9d87"
      },
      "source": [
        "eine_liste = [1,2,3,4,5,6,7,8,9,10]\n",
        "\n",
        "for a in eine_liste: # Wir durchlaufen eine Liste\n",
        "  print(a**2) # Quadrat"
      ],
      "execution_count": 22,
      "outputs": [
        {
          "output_type": "stream",
          "text": [
            "1\n",
            "4\n",
            "9\n",
            "16\n",
            "25\n",
            "36\n",
            "49\n",
            "64\n",
            "81\n",
            "100\n"
          ],
          "name": "stdout"
        }
      ]
    },
    {
      "cell_type": "code",
      "metadata": {
        "id": "bMK_DyA3jMiJ",
        "colab_type": "code",
        "colab": {
          "base_uri": "https://localhost:8080/",
          "height": 36
        },
        "outputId": "0d6b0426-97b5-4af2-8ca5-421104123cd6"
      },
      "source": [
        "a = [b**2 for b in range(10)] # list comprehensions\n",
        "print(a)"
      ],
      "execution_count": 24,
      "outputs": [
        {
          "output_type": "stream",
          "text": [
            "[0, 1, 4, 9, 16, 25, 36, 49, 64, 81]\n"
          ],
          "name": "stdout"
        }
      ]
    },
    {
      "cell_type": "markdown",
      "metadata": {
        "id": "38cSvURjja5D",
        "colab_type": "text"
      },
      "source": [
        "Aufgaben\n",
        "\n",
        "\n",
        "1.   Gebe fünf mal ```Hallo Welt``` aus.\n",
        "2.   Erstelle eine Liste mit dem Alter von dir und deinen Sitznachbarn und addiere diese auf.\n",
        "3.   Gebe alle Zahlen aus, die durch 7 oder 13 teilbar sind, zwischen 1 und 50. Das Oder wird mit ```or``` ausgedrückt und wird wie das ```and``` verwendet.\n",
        "4.   Schreibe einen Taschenrechner, der eine beliebig lange Kette an Rechnungen nacheinander ausführt. Verwende dafür eine While Schleife, die durch den Befehl ```abbrechen``` abbricht. Ansonsten funktioniert der Rechner nach dem Schema:\n",
        "\n",
        "\n",
        "  1.   Lese eine erste Zahl ein\n",
        "  2.   Lese einen Rechenoperator ein (+, -, *, /)\n",
        "  3.   Lese eine weitere Zahl ein und berechne das Ergebnis und gebe es aus\n",
        "  4.   Lese nun eine weitere Zahl ein.\n",
        "  5.   Wiederhole ab Schritt 2.\n",
        "  6.   Breche mit ```abbrechen``` ab.\n",
        "\n",
        "\n",
        "\n"
      ]
    }
  ]
}