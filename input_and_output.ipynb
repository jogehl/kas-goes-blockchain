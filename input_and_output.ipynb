{
  "nbformat": 4,
  "nbformat_minor": 0,
  "metadata": {
    "colab": {
      "name": "input_and_output.ipynb",
      "provenance": [],
      "authorship_tag": "ABX9TyNy1yvtOHvwE9wZOzrotbxp",
      "include_colab_link": true
    },
    "kernelspec": {
      "name": "python3",
      "display_name": "Python 3"
    }
  },
  "cells": [
    {
      "cell_type": "markdown",
      "metadata": {
        "id": "view-in-github",
        "colab_type": "text"
      },
      "source": [
        "<a href=\"https://colab.research.google.com/github/jogehl/kas-goes-blockchain/blob/master/input_and_output.ipynb\" target=\"_parent\"><img src=\"https://colab.research.google.com/assets/colab-badge.svg\" alt=\"Open In Colab\"/></a>"
      ]
    },
    {
      "cell_type": "markdown",
      "metadata": {
        "id": "YEhHhnGXVHk7",
        "colab_type": "text"
      },
      "source": [
        "# Ein- und Ausgabe"
      ]
    },
    {
      "cell_type": "code",
      "metadata": {
        "id": "kf2o9_tRU3Fd",
        "colab_type": "code",
        "colab": {
          "base_uri": "https://localhost:8080/",
          "height": 52
        },
        "outputId": "cd3432d7-8ebf-43df-fa88-8810cab126df"
      },
      "source": [
        "eingabe = input()\n",
        "print(eingabe)"
      ],
      "execution_count": 2,
      "outputs": [
        {
          "output_type": "stream",
          "text": [
            "hallo\n",
            "hallo\n"
          ],
          "name": "stdout"
        }
      ]
    },
    {
      "cell_type": "markdown",
      "metadata": {
        "id": "HJC1LLWyVWVN",
        "colab_type": "text"
      },
      "source": [
        "Aufgabe: \n",
        "\n",
        "Schreibe ein Programm, dass folgendes abfragt:\n",
        "\n",
        "\n",
        "\n",
        "* Name\n",
        "* Geburtsdatum\n",
        "* Studiengang\n",
        "* Wohnort\n",
        "* Lieblingshobby\n",
        "\n",
        "Die Informationen sollen in einem vollständigen Satz ausgegeben werden.\n",
        "\n",
        "\n",
        "\n"
      ]
    },
    {
      "cell_type": "code",
      "metadata": {
        "id": "gLkyVLZRVKmW",
        "colab_type": "code",
        "colab": {}
      },
      "source": [
        ""
      ],
      "execution_count": null,
      "outputs": []
    }
  ]
}