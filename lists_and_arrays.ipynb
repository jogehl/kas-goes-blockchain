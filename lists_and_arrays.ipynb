{
  "nbformat": 4,
  "nbformat_minor": 0,
  "metadata": {
    "colab": {
      "name": "lists_and_arrays.ipynb",
      "provenance": [],
      "authorship_tag": "ABX9TyMesMcKdc9++DtqtveGa5Y6",
      "include_colab_link": true
    },
    "kernelspec": {
      "name": "python3",
      "display_name": "Python 3"
    }
  },
  "cells": [
    {
      "cell_type": "markdown",
      "metadata": {
        "id": "view-in-github",
        "colab_type": "text"
      },
      "source": [
        "<a href=\"https://colab.research.google.com/github/jogehl/kas-goes-blockchain/blob/master/lists_and_arrays.ipynb\" target=\"_parent\"><img src=\"https://colab.research.google.com/assets/colab-badge.svg\" alt=\"Open In Colab\"/></a>"
      ]
    },
    {
      "cell_type": "markdown",
      "metadata": {
        "id": "NhsDkr-oW3ba",
        "colab_type": "text"
      },
      "source": [
        "# Listen"
      ]
    },
    {
      "cell_type": "code",
      "metadata": {
        "id": "i5lu9JbOWjqq",
        "colab_type": "code",
        "colab": {
          "base_uri": "https://localhost:8080/",
          "height": 139
        },
        "outputId": "3871452b-94b7-4182-d3b0-8e970e897347"
      },
      "source": [
        "zahlen = [1,2,3,4,5,6,7,8,9,10]\n",
        "print(zahlen)\n",
        "\n",
        "namen = [\"Cosima\", \"Joshua\"]\n",
        "print(namen)\n",
        "\n",
        "print(zahlen[0])\n",
        "print(zahlen[-1])\n",
        "print(zahlen[-2])"
      ],
      "execution_count": 10,
      "outputs": [
        {
          "output_type": "stream",
          "text": [
            "[1, 2, 3, 4, 5, 6, 7, 8, 9, 10]\n",
            "['Cosima', 'Joshua']\n",
            "1\n",
            "[1, 2]\n",
            "10\n",
            "9\n",
            "[4]\n"
          ],
          "name": "stdout"
        }
      ]
    },
    {
      "cell_type": "code",
      "metadata": {
        "id": "0u-5ixHrX7Fm",
        "colab_type": "code",
        "colab": {
          "base_uri": "https://localhost:8080/",
          "height": 121
        },
        "outputId": "9f99ca71-503c-4da6-8912-239ce86a8595"
      },
      "source": [
        "zahlen = [1,2,3,4,5,6,7,8,9,10]\n",
        "namen = [\"Cosima\", \"Joshua\"]\n",
        "print(zahlen)\n",
        "\n",
        "# Ausschnitt\n",
        "print(zahlen[:2])\n",
        "print(zahlen[3:4])\n",
        "print(namen[0:2])\n",
        "print(\"\".join(namen[0:2]))\n",
        "\n",
        "# Länge\n",
        "print(\"Länge\", len(zahlen))\n"
      ],
      "execution_count": 22,
      "outputs": [
        {
          "output_type": "stream",
          "text": [
            "[1, 2, 3, 4, 5, 6, 7, 8, 9, 10]\n",
            "[1, 2]\n",
            "[4]\n",
            "['Cosima', 'Joshua']\n",
            "CosimaJoshua\n",
            "Länge 10\n"
          ],
          "name": "stdout"
        }
      ]
    },
    {
      "cell_type": "markdown",
      "metadata": {
        "id": "XZTwSmrVY3a3",
        "colab_type": "text"
      },
      "source": [
        "Aufgabe: \n",
        "\n",
        "Ordne die Buchstaben:\n",
        "a) ```[\"E\", \"M\", \"R\", \"H\", \"A\", \"L\", \"T\", \"W\"]```\n",
        "\n",
        "b) ```[\"Konrad\", \"Boccia\", \"spielte\", \"gerne\", \"Adenauer\"]```\n"
      ]
    },
    {
      "cell_type": "markdown",
      "metadata": {
        "id": "kfn_ZB9ZW2s3",
        "colab_type": "text"
      },
      "source": [
        "# Arrays\n"
      ]
    },
    {
      "cell_type": "code",
      "metadata": {
        "id": "CzNVi-QMbEgp",
        "colab_type": "code",
        "colab": {
          "base_uri": "https://localhost:8080/",
          "height": 69
        },
        "outputId": "22346a0f-4867-4849-d0a9-4ec294176b46"
      },
      "source": [
        "import numpy as np\n",
        "\n",
        "# Erstellen eines Arrays\n",
        "arr = np.array([1,2,3])\n",
        "print(arr)\n",
        "print(arr[0])\n",
        "print(arr[1:3])"
      ],
      "execution_count": 25,
      "outputs": [
        {
          "output_type": "stream",
          "text": [
            "[1 2 3]\n",
            "1\n",
            "[2 3]\n"
          ],
          "name": "stdout"
        }
      ]
    },
    {
      "cell_type": "code",
      "metadata": {
        "id": "WnoKNj4YbNlp",
        "colab_type": "code",
        "colab": {
          "base_uri": "https://localhost:8080/",
          "height": 121
        },
        "outputId": "eaaae712-92f9-41e4-f4c7-4199a4335668"
      },
      "source": [
        "import numpy as np\n",
        "\n",
        "# List to array conversion\n",
        "l = [\"Cosima\", \"Joshua\"]\n",
        "arr = np.array(l)\n",
        "print(arr)\n",
        "print(type(arr))\n",
        "print(type(l))\n",
        "\n",
        "# Array to list conversion\n",
        "arr = np.array([1,2,3,4,5])\n",
        "l = list(arr)\n",
        "print(arr)\n",
        "print(type(arr))\n",
        "print(type(l))\n"
      ],
      "execution_count": 29,
      "outputs": [
        {
          "output_type": "stream",
          "text": [
            "['Cosima' 'Joshua']\n",
            "<class 'numpy.ndarray'>\n",
            "<class 'list'>\n",
            "[1 2 3 4 5]\n",
            "<class 'numpy.ndarray'>\n",
            "<class 'list'>\n"
          ],
          "name": "stdout"
        }
      ]
    }
  ]
}