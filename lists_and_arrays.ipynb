{
  "nbformat": 4,
  "nbformat_minor": 0,
  "metadata": {
    "colab": {
      "name": "lists_and_arrays.ipynb",
      "provenance": [],
      "authorship_tag": "ABX9TyN79NjN5EBXdA6qXMo18feq",
      "include_colab_link": true
    },
    "kernelspec": {
      "name": "python3",
      "display_name": "Python 3"
    }
  },
  "cells": [
    {
      "cell_type": "markdown",
      "metadata": {
        "id": "view-in-github",
        "colab_type": "text"
      },
      "source": [
        "<a href=\"https://colab.research.google.com/github/jogehl/kas-goes-blockchain/blob/master/lists_and_arrays.ipynb\" target=\"_parent\"><img src=\"https://colab.research.google.com/assets/colab-badge.svg\" alt=\"Open In Colab\"/></a>"
      ]
    },
    {
      "cell_type": "markdown",
      "metadata": {
        "id": "NhsDkr-oW3ba",
        "colab_type": "text"
      },
      "source": [
        "# Listen"
      ]
    },
    {
      "cell_type": "code",
      "metadata": {
        "id": "i5lu9JbOWjqq",
        "colab_type": "code",
        "colab": {
          "base_uri": "https://localhost:8080/",
          "height": 139
        },
        "outputId": "3871452b-94b7-4182-d3b0-8e970e897347"
      },
      "source": [
        "zahlen = [1,2,3,4,5,6,7,8,9,10]\n",
        "print(zahlen)\n",
        "\n",
        "namen = [\"Cosima\", \"Joshua\"]\n",
        "print(namen)\n",
        "\n",
        "print(zahlen[0])\n",
        "print(zahlen[-1])\n",
        "print(zahlen[-2])"
      ],
      "execution_count": 10,
      "outputs": [
        {
          "output_type": "stream",
          "text": [
            "[1, 2, 3, 4, 5, 6, 7, 8, 9, 10]\n",
            "['Cosima', 'Joshua']\n",
            "1\n",
            "[1, 2]\n",
            "10\n",
            "9\n",
            "[4]\n"
          ],
          "name": "stdout"
        }
      ]
    },
    {
      "cell_type": "code",
      "metadata": {
        "id": "0u-5ixHrX7Fm",
        "colab_type": "code",
        "colab": {
          "base_uri": "https://localhost:8080/",
          "height": 121
        },
        "outputId": "9f99ca71-503c-4da6-8912-239ce86a8595"
      },
      "source": [
        "zahlen = [1,2,3,4,5,6,7,8,9,10]\n",
        "namen = [\"Cosima\", \"Joshua\"]\n",
        "print(zahlen)\n",
        "\n",
        "# Ausschnitt\n",
        "print(zahlen[:2])\n",
        "print(zahlen[3:4])\n",
        "print(namen[0:2])\n",
        "print(\"\".join(namen[0:2]))\n",
        "\n",
        "# Länge\n",
        "print(\"Länge\", len(zahlen))\n"
      ],
      "execution_count": 22,
      "outputs": [
        {
          "output_type": "stream",
          "text": [
            "[1, 2, 3, 4, 5, 6, 7, 8, 9, 10]\n",
            "[1, 2]\n",
            "[4]\n",
            "['Cosima', 'Joshua']\n",
            "CosimaJoshua\n",
            "Länge 10\n"
          ],
          "name": "stdout"
        }
      ]
    },
    {
      "cell_type": "markdown",
      "metadata": {
        "id": "XZTwSmrVY3a3",
        "colab_type": "text"
      },
      "source": [
        "Aufgabe: \n",
        "\n",
        "Ordne die Buchstaben:\n",
        "a) ```[\"E\", \"M\", \"R\", \"H\", \"A\", \"L\", \"T\", \"W\"]```\n",
        "\n",
        "b) ```[\"Konrad\", \"Boccia\", \"spielte\", \"gerne\", \"Adenauer\"]```\n"
      ]
    },
    {
      "cell_type": "code",
      "metadata": {
        "id": "gn2DsN2ocu9x",
        "colab_type": "code",
        "colab": {
          "base_uri": "https://localhost:8080/",
          "height": 69
        },
        "outputId": "a8e9487c-7fd9-4f1c-aeb5-8b56ad107671"
      },
      "source": [
        "l = []\n",
        "l_added = l + [1,2,3]\n",
        "\n",
        "print(l)\n",
        "print(l_added)\n",
        "\n",
        "l.append(\"Ich bin ein Element\") # l+= [\"Ich bin ein Element\"]\n",
        "print(l)"
      ],
      "execution_count": 32,
      "outputs": [
        {
          "output_type": "stream",
          "text": [
            "[]\n",
            "[1, 2, 3]\n",
            "['Ich bin ein Element']\n"
          ],
          "name": "stdout"
        }
      ]
    },
    {
      "cell_type": "markdown",
      "metadata": {
        "id": "aGePxkXpdEmU",
        "colab_type": "text"
      },
      "source": [
        "Aufgabe:\n",
        "Lese drei Zahlen ein und Speicher sie in eine Liste. Addiere alle Zahlen in der Liste und gebe das Ergebis aus. !ACHTUNG! Beim Einlesen werden die Zahlen zu Zeichenketten(Strings) umgewandelt. Wende also vor dem Rechnen auf jedes Element der Liste die Funktion double() an."
      ]
    },
    {
      "cell_type": "markdown",
      "metadata": {
        "id": "kfn_ZB9ZW2s3",
        "colab_type": "text"
      },
      "source": [
        "# Arrays\n"
      ]
    },
    {
      "cell_type": "code",
      "metadata": {
        "id": "CzNVi-QMbEgp",
        "colab_type": "code",
        "colab": {
          "base_uri": "https://localhost:8080/",
          "height": 69
        },
        "outputId": "22346a0f-4867-4849-d0a9-4ec294176b46"
      },
      "source": [
        "import numpy as np\n",
        "\n",
        "# Erstellen eines Arrays\n",
        "arr = np.array([1,2,3])\n",
        "print(arr)\n",
        "print(arr[0])\n",
        "print(arr[1:3])"
      ],
      "execution_count": 25,
      "outputs": [
        {
          "output_type": "stream",
          "text": [
            "[1 2 3]\n",
            "1\n",
            "[2 3]\n"
          ],
          "name": "stdout"
        }
      ]
    },
    {
      "cell_type": "code",
      "metadata": {
        "id": "WnoKNj4YbNlp",
        "colab_type": "code",
        "colab": {
          "base_uri": "https://localhost:8080/",
          "height": 139
        },
        "outputId": "c84e1204-6c46-4054-a346-cec3fe058aaa"
      },
      "source": [
        "import numpy as np\n",
        "\n",
        "# List to array conversion\n",
        "l = [\"Cosima\", \"Joshua\"]\n",
        "arr = np.array(l)\n",
        "arr2 = np.array([\"Ich bin das zweite Array\"])\n",
        "\n",
        "\n",
        "print(arr)\n",
        "print(type(arr))\n",
        "print(type(l))\n",
        "\n",
        "# Verbindung von zwei Arrays(Bei Listen mit +=)\n",
        "arr_verbunden = np.concatenate((arr, arr2))\n",
        "print(arr_verbunden)\n",
        "\n",
        "# Array to list conversion\n",
        "arr = np.array([1,2,3,4,5])\n",
        "l = list(arr)\n",
        "print(arr)\n",
        "print(type(arr))\n",
        "print(type(l))\n"
      ],
      "execution_count": 38,
      "outputs": [
        {
          "output_type": "stream",
          "text": [
            "['Cosima' 'Joshua']\n",
            "<class 'numpy.ndarray'>\n",
            "<class 'list'>\n",
            "['Cosima' 'Joshua' 'Ich bin das zweite Array']\n",
            "[1 2 3 4 5]\n",
            "<class 'numpy.ndarray'>\n",
            "<class 'list'>\n"
          ],
          "name": "stdout"
        }
      ]
    },
    {
      "cell_type": "markdown",
      "metadata": {
        "id": "xVxrlNvBcjQi",
        "colab_type": "text"
      },
      "source": [
        "Aufgaben:\n",
        "\n",
        "a) lese die Namen deiner Sitznachbarn ein. Und speicher in eine Liste. Konvertiere diese zu einem Array und gebe sie in alphabetischer Reihenfolge aus.\n"
      ]
    }
  ]
}